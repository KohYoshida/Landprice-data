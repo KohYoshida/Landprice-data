{
 "cells": [
  {
   "cell_type": "markdown",
   "id": "cfdcff3f",
   "metadata": {},
   "source": [
    "#### Cleaning up the official landprice data\n",
    "国土数値情報ダウンロードサイト<br>\n",
    "https://nlftp.mlit.go.jp/ksj/old/datalist/old_KsjTmplt-L01.html<br>\n",
    "TOP>国土数値情報>旧統一フォーマットテキスト形式>地価公示（ポイント）>「全国」データのダウンロード>令和５年<br>\n",
    "※オリジナルデータのタイトルは「L01-2023P-2K.csv」"
   ]
  },
  {
   "cell_type": "code",
   "execution_count": 1,
   "id": "0ab4a9d8",
   "metadata": {},
   "outputs": [],
   "source": [
    "import pandas as pd\n",
    "from decimal import Decimal, ROUND_DOWN\n",
    "import numpy as np"
   ]
  },
  {
   "cell_type": "code",
   "execution_count": 2,
   "id": "e25e5c53",
   "metadata": {},
   "outputs": [],
   "source": [
    "file = \"L01-2023P-2K.csv\"\n",
    "df = pd.read_csv(file)"
   ]
  },
  {
   "cell_type": "markdown",
   "id": "ce6bf0c1",
   "metadata": {},
   "source": [
    "#### delete unneeded colums"
   ]
  },
  {
   "cell_type": "code",
   "execution_count": 3,
   "id": "7fe5d4f3",
   "metadata": {},
   "outputs": [],
   "source": [
    "colums_to_be_deleted = \"\"\"\n",
    "所在地コード\n",
    "連番\n",
    "年次\n",
    "前年所在地コード\n",
    "前年用途\n",
    "前年連番\n",
    "市区町村名\n",
    "住居表示\n",
    "行政\n",
    "地積\n",
    "利用の現況\n",
    "利用状況表示\n",
    "利用区分\n",
    "建物構造\n",
    "施設\n",
    "形状区分\n",
    "間口（比率）\n",
    "奥行（比率）\n",
    "階層（地上）\n",
    "階層（地下）\n",
    "前面道路区分\n",
    "前面道路の方位区分\n",
    "前面道路の幅員\n",
    "前面道路の駅前区分\n",
    "前面道路の舗装状況\n",
    "側道区分\n",
    "側道方位区分\n",
    "交通施設との近接区分\n",
    "用途区分\n",
    "防火区分\n",
    "都市計画区分\n",
    "高度地区\n",
    "森林区分\n",
    "公園区分\n",
    "建蔽率\n",
    "容積率\n",
    "割増容積率\n",
    "共通地点区分\n",
    "対前年変動率\n",
    "選定年次ビット\n",
    "属性移動Ｓ５９\n",
    "属性移動Ｓ６０\n",
    "属性移動Ｓ６１\n",
    "属性移動Ｓ６２\n",
    "属性移動Ｓ６３\n",
    "属性移動Ｈ１\n",
    "属性移動Ｈ２\n",
    "属性移動Ｈ３\n",
    "属性移動Ｈ４\n",
    "属性移動Ｈ５\n",
    "属性移動Ｈ６\n",
    "属性移動Ｈ７\n",
    "属性移動Ｈ８\n",
    "属性移動Ｈ９\n",
    "属性移動Ｈ１０\n",
    "属性移動Ｈ１１\n",
    "属性移動Ｈ１２\n",
    "属性移動Ｈ１３\n",
    "属性移動Ｈ１４\n",
    "属性移動Ｈ１５\n",
    "属性移動Ｈ１６\n",
    "属性移動Ｈ１７\n",
    "属性移動Ｈ１８\n",
    "属性移動Ｈ１９\n",
    "属性移動Ｈ２０\n",
    "属性移動Ｈ２１\n",
    "属性移動Ｈ２２\n",
    "属性移動Ｈ２３\n",
    "属性移動Ｈ２４\n",
    "属性移動Ｈ２５\n",
    "属性移動Ｈ２６\n",
    "属性移動Ｈ２７\n",
    "属性移動Ｈ２８\n",
    "属性移動Ｈ２９\n",
    "属性移動Ｈ３０\n",
    "属性移動Ｈ３１\n",
    "属性移動Ｒ２\n",
    "属性移動Ｒ３\n",
    "属性移動Ｒ４\n",
    "属性移動Ｒ５\n",
    "\"\"\"\n",
    "colums_to_be_deleted = colums_to_be_deleted.strip().split('\\n')\n",
    "df1 = df.drop(columns=colums_to_be_deleted)"
   ]
  },
  {
   "cell_type": "markdown",
   "id": "ff340d41",
   "metadata": {},
   "source": [
    "#### Rename columns"
   ]
  },
  {
   "cell_type": "code",
   "execution_count": 4,
   "id": "56aa769b",
   "metadata": {},
   "outputs": [],
   "source": [
    "renamelist={\"経度\":\"longitude\",\n",
    "            \"緯度\":\"latitude\",\n",
    "            \"用途\":\"usage\",\n",
    "            \"所在並びに地番\":\"address\",\n",
    "            \"周辺の土地の利用の現況\":\"surroundings\",\n",
    "            \"駅名\":\"station\",\n",
    "            \"Ｓ５８価格\":\"price1983\",\n",
    "            \"Ｓ５９価格\":\"price1984\",\n",
    "            \"Ｓ６０価格\":\"price1985\",\n",
    "            \"Ｓ６１価格\":\"price1986\",\n",
    "            \"Ｓ６２価格\":\"price1987\",\n",
    "            \"Ｓ６３価格\":\"price1988\",\n",
    "            \"Ｈ１価格\":\"price1989\",\n",
    "            \"Ｈ２価格\":\"price1990\",\n",
    "            \"Ｈ３価格\":\"price1991\",\n",
    "            \"Ｈ４価格\":\"price1992\",\n",
    "            \"Ｈ５価格\":\"price1993\",\n",
    "            \"Ｈ６価格\":\"price1994\",\n",
    "            \"Ｈ７価格\":\"price1995\",\n",
    "            \"Ｈ８価格\":\"price1996\",\n",
    "            \"Ｈ９価格\":\"price1997\",\n",
    "            \"Ｈ１０価格\":\"price1998\",\n",
    "            \"Ｈ１１価格\":\"price1999\",\n",
    "            \"Ｈ１２価格\":\"price2000\",\n",
    "            \"Ｈ１３価格\":\"price2001\",\n",
    "            \"Ｈ１４価格\":\"price2002\",\n",
    "            \"Ｈ１５価格\":\"price2003\",\n",
    "            \"Ｈ１６価格\":\"price2004\",\n",
    "            \"Ｈ１７価格\":\"price2005\",\n",
    "            \"Ｈ１８価格\":\"price2006\",\n",
    "            \"Ｈ１９価格\":\"price2007\",\n",
    "            \"Ｈ２０価格\":\"price2008\",\n",
    "            \"Ｈ２１価格\":\"price2009\",\n",
    "            \"Ｈ２２価格\":\"price2010\",\n",
    "            \"Ｈ２３価格\":\"price2011\",\n",
    "            \"Ｈ２４価格\":\"price2012\",\n",
    "            \"Ｈ２５価格\":\"price2013\",\n",
    "            \"Ｈ２６価格\":\"price2014\",\n",
    "            \"Ｈ２７価格\":\"price2015\",\n",
    "            \"Ｈ２８価格\":\"price2016\",\n",
    "            \"Ｈ２９価格\":\"price2017\",\n",
    "            \"Ｈ３０価格\":\"price2018\",\n",
    "            \"Ｈ３１価格\":\"price2019\",\n",
    "            \"Ｒ２価格\":\"price2020\",\n",
    "            \"Ｒ３価格\":\"price2021\",\n",
    "            \"Ｒ４価格\":\"price2022\",\n",
    "            \"Ｒ５価格\":\"price2023\"}\n",
    "df2 = df1.rename(columns=renamelist)"
   ]
  },
  {
   "cell_type": "markdown",
   "id": "158c851b",
   "metadata": {},
   "source": [
    "#### divide coordinates by 3600"
   ]
  },
  {
   "cell_type": "code",
   "execution_count": 5,
   "id": "e91a3ddd",
   "metadata": {},
   "outputs": [],
   "source": [
    "df2[\"longitude\"] = df2[\"longitude\"] / 3600\n",
    "df2[\"latitude\"] = df2[\"latitude\"] / 3600"
   ]
  },
  {
   "cell_type": "markdown",
   "id": "50e28d84",
   "metadata": {},
   "source": [
    "#### Round down coordinates at 7th digits"
   ]
  },
  {
   "cell_type": "code",
   "execution_count": 6,
   "id": "95cd5633",
   "metadata": {},
   "outputs": [],
   "source": [
    "def quantize_decimal(value):\n",
    "    return Decimal(value).quantize(Decimal('0.000001'), rounding=ROUND_DOWN)\n",
    "\n",
    "df2['longitude'] = df2['longitude'].apply(quantize_decimal)\n",
    "df2['latitude'] = df2['latitude'].apply(quantize_decimal)"
   ]
  },
  {
   "cell_type": "markdown",
   "id": "c16d7c5f",
   "metadata": {},
   "source": [
    "#### Replace usage<br>0:住宅地→１<br>3:宅地見込地→４<br>5:商業地→２<br>7:準工業地→４<br>9:工業地→３<br>10:市街化調整区域内の現況宅地→４<br>13:市街化調整区域内の現況林地→４<br>変換後は住宅地を１、商業地を２、工業地を３、それ以外は４と表示"
   ]
  },
  {
   "cell_type": "code",
   "execution_count": 7,
   "id": "49c2fe2b",
   "metadata": {},
   "outputs": [],
   "source": [
    "replace_usage = {0: 1, 3: 4, 5: 2, 7: 4, 9: 3, 10: 4, 13: 4}\n",
    "df2[\"usage\"] = df2[\"usage\"].replace(replace_usage)"
   ]
  },
  {
   "cell_type": "markdown",
   "id": "9584e180",
   "metadata": {},
   "source": [
    "#### Split address into pref and address by space"
   ]
  },
  {
   "cell_type": "code",
   "execution_count": 8,
   "id": "4a894789",
   "metadata": {},
   "outputs": [
    {
     "name": "stderr",
     "output_type": "stream",
     "text": [
      "C:\\Users\\ukoda\\AppData\\Local\\Temp\\ipykernel_7412\\3819294185.py:1: FutureWarning: In a future version of pandas all arguments of StringMethods.split except for the argument 'pat' will be keyword-only.\n",
      "  df2['pref'], df2['address'] = df2['address'].str.split('　', 1).str\n",
      "C:\\Users\\ukoda\\AppData\\Local\\Temp\\ipykernel_7412\\3819294185.py:1: FutureWarning: Columnar iteration over characters will be deprecated in future releases.\n",
      "  df2['pref'], df2['address'] = df2['address'].str.split('　', 1).str\n"
     ]
    }
   ],
   "source": [
    "df2['pref'], df2['address'] = df2['address'].str.split('　', 1).str"
   ]
  },
  {
   "cell_type": "code",
   "execution_count": 9,
   "id": "df6099ff",
   "metadata": {},
   "outputs": [],
   "source": [
    "df2[\"駅距離\"] = np.where((df2[\"駅距離\"] / 1000) % 1 == 0,\n",
    "                         (df2[\"駅距離\"] / 1000).astype(int).astype(str),\n",
    "                         (df2[\"駅距離\"] / 1000).astype(str)) + \"km\"\n",
    "df2[\"station\"] = df2[\"station\"] + \"まで\"\n",
    "df2['station'] = df2['station'] + df2['駅距離']\n",
    "df2 = df2.drop(columns='駅距離')"
   ]
  },
  {
   "cell_type": "markdown",
   "id": "69949ddf",
   "metadata": {},
   "source": [
    "#### Change pref into codes<br>nlftp.mlit.go.jp/ksj/gml/codelist/PrefCd.html"
   ]
  },
  {
   "cell_type": "code",
   "execution_count": 10,
   "id": "4a229c50",
   "metadata": {},
   "outputs": [],
   "source": [
    "pref_code = {\n",
    "    \"北海道\": \"01\", \"青森県\": \"02\", \"岩手県\": \"03\", \"宮城県\": \"04\",\n",
    "    \"秋田県\": \"05\", \"山形県\": \"06\", \"福島県\": \"07\", \"茨城県\": \"08\",\n",
    "    \"栃木県\": \"09\", \"群馬県\": \"10\", \"埼玉県\": \"11\", \"千葉県\": \"12\",\n",
    "    \"東京都\": \"13\", \"神奈川県\": \"14\", \"新潟県\": \"15\", \"富山県\": \"16\",\n",
    "    \"石川県\": \"17\", \"福井県\": \"18\", \"山梨県\": \"19\", \"長野県\": \"20\",\n",
    "    \"岐阜県\": \"21\", \"静岡県\": \"22\", \"愛知県\": \"23\", \"三重県\": \"24\",\n",
    "    \"滋賀県\": \"25\", \"京都府\": \"26\", \"大阪府\": \"27\", \"兵庫県\": \"28\",\n",
    "    \"奈良県\": \"29\", \"和歌山県\": \"30\", \"鳥取県\": \"31\", \"島根県\": \"32\",\n",
    "    \"岡山県\": \"33\", \"広島県\": \"34\", \"山口県\": \"35\", \"徳島県\": \"36\",\n",
    "    \"香川県\": \"37\", \"愛媛県\": \"38\", \"高知県\": \"39\", \"福岡県\": \"40\",\n",
    "    \"佐賀県\": \"41\", \"長崎県\": \"42\", \"熊本県\": \"43\", \"大分県\": \"44\",\n",
    "    \"宮崎県\": \"45\", \"鹿児島県\": \"46\", \"沖縄県\": \"47\"}\n",
    "df2[\"pref\"] = df2[\"pref\"].replace(pref_code)"
   ]
  },
  {
   "cell_type": "markdown",
   "id": "10a65148",
   "metadata": {},
   "source": [
    "#### divide prices by 10000"
   ]
  },
  {
   "cell_type": "code",
   "execution_count": 11,
   "id": "147441d7",
   "metadata": {},
   "outputs": [],
   "source": [
    "prices = \"\"\"\n",
    "price1983\n",
    "price1984\n",
    "price1985\n",
    "price1986\n",
    "price1987\n",
    "price1988\n",
    "price1989\n",
    "price1990\n",
    "price1991\n",
    "price1992\n",
    "price1993\n",
    "price1994\n",
    "price1995\n",
    "price1996\n",
    "price1997\n",
    "price1998\n",
    "price1999\n",
    "price2000\n",
    "price2001\n",
    "price2002\n",
    "price2003\n",
    "price2004\n",
    "price2005\n",
    "price2006\n",
    "price2007\n",
    "price2008\n",
    "price2009\n",
    "price2010\n",
    "price2011\n",
    "price2012\n",
    "price2013\n",
    "price2014\n",
    "price2015\n",
    "price2016\n",
    "price2017\n",
    "price2018\n",
    "price2019\n",
    "price2020\n",
    "price2021\n",
    "price2022\n",
    "price2023\n",
    "\"\"\"\n",
    "prices = prices.strip().split('\\n')\n",
    "df2[prices] = df2[prices] / 10000"
   ]
  },
  {
   "cell_type": "markdown",
   "id": "ccb2732e",
   "metadata": {},
   "source": [
    "#### replace 0 by blank"
   ]
  },
  {
   "cell_type": "code",
   "execution_count": 12,
   "id": "5553e791",
   "metadata": {},
   "outputs": [],
   "source": [
    "df2[prices] = df2[prices].replace({0: \"\"})"
   ]
  },
  {
   "cell_type": "markdown",
   "id": "bb9916bf",
   "metadata": {},
   "source": [
    "#### Rearrange columns order"
   ]
  },
  {
   "cell_type": "code",
   "execution_count": 13,
   "id": "8746db33",
   "metadata": {},
   "outputs": [],
   "source": [
    "columns_order = \"\"\"\n",
    "longitude\n",
    "latitude\n",
    "usage\n",
    "pref\n",
    "address\n",
    "surroundings\n",
    "station\n",
    "price1983\n",
    "price1984\n",
    "price1985\n",
    "price1986\n",
    "price1987\n",
    "price1988\n",
    "price1989\n",
    "price1990\n",
    "price1991\n",
    "price1992\n",
    "price1993\n",
    "price1994\n",
    "price1995\n",
    "price1996\n",
    "price1997\n",
    "price1998\n",
    "price1999\n",
    "price2000\n",
    "price2001\n",
    "price2002\n",
    "price2003\n",
    "price2004\n",
    "price2005\n",
    "price2006\n",
    "price2007\n",
    "price2008\n",
    "price2009\n",
    "price2010\n",
    "price2011\n",
    "price2012\n",
    "price2013\n",
    "price2014\n",
    "price2015\n",
    "price2016\n",
    "price2017\n",
    "price2018\n",
    "price2019\n",
    "price2020\n",
    "price2021\n",
    "price2022\n",
    "price2023\n",
    "\"\"\"\n",
    "columns_order = columns_order.strip().split(\"\\n\")\n",
    "df2 = df2[columns_order]"
   ]
  },
  {
   "cell_type": "markdown",
   "id": "da3f98ef",
   "metadata": {},
   "source": [
    "#### Integrate various \"-\" and \"ー\"s"
   ]
  },
  {
   "cell_type": "code",
   "execution_count": 14,
   "id": "3cfeb799",
   "metadata": {},
   "outputs": [],
   "source": [
    "df2['surroundings'] = df2['surroundings'].str.replace('-', 'ー')  # 半角ハイフン\n",
    "df2['surroundings'] = df2['surroundings'].str.replace('−', 'ー')  # 全角ダッシュ\n",
    "df2['surroundings'] = df2['surroundings'].str.replace('－', 'ー')  # 全角ハイフン\n",
    "df2['surroundings'] = df2['surroundings'].str.replace('—', 'ー')  # emダッシュ\n",
    "df2['surroundings'] = df2['surroundings'].str.replace('―', 'ー')  # enダッシュ\n",
    "df2['address'] = df2['address'].str.replace('-', 'ー')  # 半角ハイフン\n",
    "df2['address'] = df2['address'].str.replace('−', 'ー')  # 全角ダッシュ\n",
    "df2['address'] = df2['address'].str.replace('－', 'ー')  # 全角ハイフン\n",
    "df2['address'] = df2['address'].str.replace('—', 'ー')  # emダッシュ\n",
    "df2['address'] = df2['address'].str.replace('―', 'ー')  # enダッシュ"
   ]
  },
  {
   "cell_type": "code",
   "execution_count": 15,
   "id": "49acabcd",
   "metadata": {},
   "outputs": [],
   "source": [
    "df2.to_csv(\"dataset_ver4.csv\", index=False)"
   ]
  }
 ],
 "metadata": {
  "kernelspec": {
   "display_name": "Python 3 (ipykernel)",
   "language": "python",
   "name": "python3"
  },
  "language_info": {
   "codemirror_mode": {
    "name": "ipython",
    "version": 3
   },
   "file_extension": ".py",
   "mimetype": "text/x-python",
   "name": "python",
   "nbconvert_exporter": "python",
   "pygments_lexer": "ipython3",
   "version": "3.10.7"
  }
 },
 "nbformat": 4,
 "nbformat_minor": 5
}
